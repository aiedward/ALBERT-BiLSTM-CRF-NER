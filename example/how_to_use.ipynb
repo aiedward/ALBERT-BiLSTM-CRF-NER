{
  "nbformat": 4,
  "nbformat_minor": 0,
  "metadata": {
    "colab": {
      "name": "how-to-use.ipynb",
      "provenance": [],
      "collapsed_sections": []
    },
    "kernelspec": {
      "name": "python3",
      "display_name": "Python 3"
    },
    "accelerator": "GPU"
  },
  "cells": [
    {
      "cell_type": "code",
      "metadata": {
        "id": "xicSmKWRBbWk",
        "colab_type": "code",
        "colab": {}
      },
      "source": [
        "# use tf version 1.x\n",
        "%tensorflow_version 1.x\n",
        "import tensorflow as tf\n",
        "tf.__version__"
      ],
      "execution_count": 0,
      "outputs": []
    },
    {
      "cell_type": "code",
      "metadata": {
        "id": "ZxhdyoKKCAHt",
        "colab_type": "code",
        "colab": {}
      },
      "source": [
        "# get chinese model\n",
        "!wget https://storage.googleapis.com/albert_models/albert_base_zh.tar.gz\n",
        "!tar -zxvf albert_base_zh.tar.gz"
      ],
      "execution_count": 0,
      "outputs": []
    },
    {
      "cell_type": "code",
      "metadata": {
        "id": "2p1R2XZmCIxL",
        "colab_type": "code",
        "colab": {}
      },
      "source": [
        "# clone ner model project\n",
        "!git clone https://github.com/grallage/ALBERT-BiLSTM-CRF-NER.git"
      ],
      "execution_count": 0,
      "outputs": []
    },
    {
      "cell_type": "code",
      "metadata": {
        "id": "D19WpQnWCNBE",
        "colab_type": "code",
        "colab": {}
      },
      "source": [
        "# train ner model\n",
        "!python /content/ALBERT-BiLSTM-CRF-NER/run_ner.py \\\n",
        "    --task_name ner \\\n",
        "    --do_train true \\\n",
        "    --do_eval true \\\n",
        "    --data_dir /content/ALBERT-BiLSTM-CRF-NER/data \\\n",
        "    --vocab_file /content/albert_base/vocab_chinese.txt \\\n",
        "    --bert_config_file /content/albert_base/albert_config.json \\\n",
        "    --max_seq_length 128 \\\n",
        "    --train_batch_size 64 \\\n",
        "    --learning_rate 2e-5 \\\n",
        "    --num_train_epochs 3 \\\n",
        "    --do_predict true \\\n",
        "    --init_checkpoint /content/albert_base/model.ckpt-best \\\n",
        "    --output_dir /content/albert_base_ner_checkpoints"
      ],
      "execution_count": 0,
      "outputs": []
    },
    {
      "cell_type": "code",
      "metadata": {
        "id": "P1p3FTSECTXp",
        "colab_type": "code",
        "colab": {}
      },
      "source": [
        "# test ner model\n",
        "!python /content/ALBERT-BiLSTM-CRF-NER/terminal_predict.py"
      ],
      "execution_count": 0,
      "outputs": []
    }
  ]
}